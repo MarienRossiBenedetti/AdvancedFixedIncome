{
 "cells": [
  {
   "cell_type": "markdown",
   "id": "726e81f4-68ee-4947-8a4a-be1302399a7c",
   "metadata": {},
   "source": [
    "# Advanced Fixed Income and Credit"
   ]
  },
  {
   "cell_type": "code",
   "execution_count": 256,
   "id": "66c6fc1e-7076-4d27-8da2-834bb89b0c4b",
   "metadata": {},
   "outputs": [],
   "source": [
    "import numpy as np\n",
    "import pandas as pd\n",
    "import matplotlib.pyplot as plt"
   ]
  },
  {
   "cell_type": "code",
   "execution_count": 274,
   "id": "be55f344-8281-49fb-ae9b-d189a62c86f6",
   "metadata": {},
   "outputs": [
    {
     "name": "stdout",
     "output_type": "stream",
     "text": [
      "The autoreload extension is already loaded. To reload it, use:\n",
      "  %reload_ext autoreload\n"
     ]
    }
   ],
   "source": [
    "%load_ext autoreload\n",
    "%autoreload 2\n",
    "import AdvancedFixedIncome as afi"
   ]
  },
  {
   "cell_type": "code",
   "execution_count": 260,
   "id": "2366f4c9-0ed9-496f-848f-63febcac343b",
   "metadata": {},
   "outputs": [],
   "source": [
    "pv = afi.pv_simple(cf=50, r=0.02, tau=0.25)"
   ]
  },
  {
   "cell_type": "code",
   "execution_count": 261,
   "id": "d6f19776-5d23-4b85-8f12-d4c75fe434ee",
   "metadata": {},
   "outputs": [
    {
     "data": {
      "text/plain": [
       "49.7512"
      ]
     },
     "execution_count": 261,
     "metadata": {},
     "output_type": "execute_result"
    }
   ],
   "source": [
    "pv"
   ]
  },
  {
   "cell_type": "code",
   "execution_count": 296,
   "id": "c752a6c7-b327-4ad1-881d-53f6d604ed86",
   "metadata": {},
   "outputs": [
    {
     "data": {
      "text/plain": [
       "102.4895"
      ]
     },
     "execution_count": 296,
     "metadata": {},
     "output_type": "execute_result"
    }
   ],
   "source": [
    "afi.bond_price(N=100, cpn_ann=0.05, T=1, freq_per_year=4, zc_rates=pd.Series([0.02, 0.022, 0.023, 0.025]))"
   ]
  },
  {
   "cell_type": "code",
   "execution_count": 303,
   "id": "311ab0bb-98b3-4150-b35c-62d968f1d372",
   "metadata": {},
   "outputs": [
    {
     "data": {
      "text/plain": [
       "Nominal               100.00\n",
       "Tenor                   2.00\n",
       "Annual Coupon           0.05\n",
       "Payments Frequency      4.00\n",
       "dtype: float64"
      ]
     },
     "execution_count": 303,
     "metadata": {},
     "output_type": "execute_result"
    }
   ],
   "source": [
    "afi.create_bond(N=100, T=2, cpn_ann=0.05, freq_per_year=4)"
   ]
  },
  {
   "cell_type": "code",
   "execution_count": null,
   "id": "a3d983df-73ee-400e-a890-f04e8c4c052e",
   "metadata": {},
   "outputs": [],
   "source": []
  }
 ],
 "metadata": {
  "kernelspec": {
   "display_name": "Python 3 (ipykernel)",
   "language": "python",
   "name": "python3"
  },
  "language_info": {
   "codemirror_mode": {
    "name": "ipython",
    "version": 3
   },
   "file_extension": ".py",
   "mimetype": "text/x-python",
   "name": "python",
   "nbconvert_exporter": "python",
   "pygments_lexer": "ipython3",
   "version": "3.9.13"
  }
 },
 "nbformat": 4,
 "nbformat_minor": 5
}
